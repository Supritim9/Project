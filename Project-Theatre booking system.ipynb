{
 "cells": [
  {
   "cell_type": "code",
   "execution_count": 15,
   "id": "c4da6084-ac60-46c5-8569-a500f3463290",
   "metadata": {},
   "outputs": [
    {
     "name": "stdout",
     "output_type": "stream",
     "text": [
      "==================== Welcome to PVR cinemas ====================\n"
     ]
    },
    {
     "name": "stdin",
     "output_type": "stream",
     "text": [
      "Enter name here: dsf\n",
      "Enter phone number:  45\n"
     ]
    },
    {
     "name": "stdout",
     "output_type": "stream",
     "text": [
      "Press 1 for classic normal seats(Price - 500/-)\n",
      "         Press 2 for classic recliner seats(Price - 1000/-)\n",
      "         Press 3 for prime normal seats(Price - 1500/-)\n",
      "         Press 4 for prime recliner seats(Price - 2000/-)\n"
     ]
    },
    {
     "name": "stdin",
     "output_type": "stream",
     "text": [
      "Enter your choice:  5\n"
     ]
    },
    {
     "name": "stdout",
     "output_type": "stream",
     "text": [
      "Invalid input... Try again\n",
      "==================== Welcome to PVR cinemas ====================\n"
     ]
    },
    {
     "name": "stdin",
     "output_type": "stream",
     "text": [
      "Enter name here: asd\n",
      "Enter phone number:  458\n"
     ]
    },
    {
     "name": "stdout",
     "output_type": "stream",
     "text": [
      "Press 1 for classic normal seats(Price - 500/-)\n",
      "         Press 2 for classic recliner seats(Price - 1000/-)\n",
      "         Press 3 for prime normal seats(Price - 1500/-)\n",
      "         Press 4 for prime recliner seats(Price - 2000/-)\n"
     ]
    },
    {
     "name": "stdin",
     "output_type": "stream",
     "text": [
      "Enter your choice:  4\n",
      "Enter no of seats:  25\n",
      "Do you want to add food? yes\n"
     ]
    },
    {
     "name": "stdout",
     "output_type": "stream",
     "text": [
      "             Press 1 for popcorn(Price-399/-)\n",
      "                Press 2 for pizza(Price-499/-)\n",
      "                Press 3 for hot_dog(Price-299/-)\n",
      "                Press 4 for drinks(Price-199/-) pepsi\n",
      "                Press 5 for combo1(Price-999/-) popcorn+pizza+drinks\n",
      "                Press 6 for combo2(Price-899/-) pizza+hot_dogs+drinks\n",
      "                Press 7 for combo3(Price-499/-) popcorn+drinks\n",
      "\n"
     ]
    },
    {
     "name": "stdin",
     "output_type": "stream",
     "text": [
      "Enter your choice:  2\n",
      "No of pizza :  5\n",
      "Do you want to repeat the order?(yes/no) no\n"
     ]
    },
    {
     "name": "stdout",
     "output_type": "stream",
     "text": [
      "\n",
      "==================================================\n",
      "Customer name:  asd\n",
      "Movie name:  Jawan\n",
      "Ticket:  50000\n",
      "Food:  2495\n",
      "Total Amount:  52495\n",
      "Thank you so much for booking PVR Cinemas.\n",
      "==================================================\n",
      "Total Seats left :  125\n"
     ]
    },
    {
     "name": "stdin",
     "output_type": "stream",
     "text": [
      "Next person? no\n"
     ]
    },
    {
     "name": "stdout",
     "output_type": "stream",
     "text": [
      "\n",
      "Counter closed\n"
     ]
    }
   ],
   "source": [
    "#### Project--Create Theatre ticket booking system\n",
    "# number of seats limited\n",
    "# normal / recliner\n",
    "# set prices accordingly\n",
    "# add combos \n",
    "# display bill\n",
    "# go to next person\n",
    "\n",
    "\n",
    "c_n_seats = 500\n",
    "c_r_seats = 1000\n",
    "p_n_seats = 1500\n",
    "p_r_seats = 2000\n",
    "Total_seats = 0\n",
    "c_n = 50\n",
    "c_r = 50\n",
    "p_n = 25\n",
    "p_r = 25\n",
    "seatslimit = 150\n",
    "amount = 0\n",
    "total = 0\n",
    "price = 0\n",
    "popcorn = 399 \n",
    "pizza = 499\n",
    "hot_dog = 299\n",
    "drinks = 199\n",
    "combo1 = 999 #popcorn+pizza+drinks\n",
    "combo2 = 899 #pizza+hot_dogs+drinks\n",
    "combo3 = 499 #popcorn+drinks\n",
    "\n",
    "while True:\n",
    "    if Total_seats == 150:\n",
    "        print(\"Sorry, no seats avalable. PVR Housefull\")\n",
    "        break\n",
    "    else:\n",
    "        print(\"=\"*20,\"Welcome to PVR cinemas\",\"=\"*20)\n",
    "        name = input(\"Enter name here:\")\n",
    "        ph_no = int(input(\"Enter phone number: \"))\n",
    "        print(\"\"\"Press 1 for classic normal seats(Price - 500/-)\n",
    "         Press 2 for classic recliner seats(Price - 1000/-)\n",
    "         Press 3 for prime normal seats(Price - 1500/-)\n",
    "         Press 4 for prime recliner seats(Price - 2000/-)\"\"\")\n",
    "\n",
    "        choice = int(input(\"Enter your choice: \"))\n",
    "        if choice == 1:\n",
    "            seats = int(input(\"Enter no of seats: \"))\n",
    "            if seats <= c_n:\n",
    "                c_n = c_n - seats\n",
    "            elif seats > c_n:\n",
    "                print(\"Sorry classic normal seats available\",c_n, \"Please choose other seats\" )\n",
    "                continue\n",
    "            Total_seats +=seats\n",
    "            amount = seats*c_n_seats\n",
    "        \n",
    "        elif choice == 2:\n",
    "            seats = int(input(\"Enter no of seats: \"))\n",
    "            if seats <= c_r:\n",
    "                c_r = c_r - seats\n",
    "            elif seats >  c_r:\n",
    "                print(\"Sorry classic recliner seats available\",c_r,\"Plese chosse other seats\" )\n",
    "                continue\n",
    "            Total_seats +=seats    \n",
    "            amount = seats*c_r_seats\n",
    "            \n",
    "        elif choice == 3:\n",
    "            seats = int(input(\"Enter no of seats: \"))\n",
    "            if seats <= p_n:\n",
    "                p_n = p_n - seats\n",
    "            elif seats >  p_n:\n",
    "                print(\"Sorry prime normal seats available\",p_n,\"Please choose other seats.\")\n",
    "                continue\n",
    "            Total_seats+=seats   \n",
    "            amount = seats*p_n_seats\n",
    "           \n",
    "                    \n",
    "        elif choice == 4:\n",
    "            seats = int(input(\"Enter no of seats: \"))\n",
    "            if seats <= p_r:\n",
    "                p_r = p_r - seats\n",
    "            elif seats >  p_r:\n",
    "                print(\"Sorry prime recliner seats available\",p_r, \"Please choose other seats.\")\n",
    "                continue\n",
    "            Total_seats+=seats    \n",
    "            amount = seats*p_r_seats\n",
    "           \n",
    "        else:\n",
    "            print(\"Invalid input... Try again\")\n",
    "            continue\n",
    "\n",
    "        food = input(\"Do you want to add food?\")\n",
    "        if food == \"yes\":\n",
    "            print(\"\"\"             Press 1 for popcorn(Price-399/-)\n",
    "                Press 2 for pizza(Price-499/-)\n",
    "                Press 3 for hot_dog(Price-299/-)\n",
    "                Press 4 for drinks(Price-199/-) pepsi\n",
    "                Press 5 for combo1(Price-999/-) popcorn+pizza+drinks\n",
    "                Press 6 for combo2(Price-899/-) pizza+hot_dogs+drinks\n",
    "                Press 7 for combo3(Price-499/-) popcorn+drinks\"\"\")\n",
    "            print()\n",
    "            \n",
    "            \n",
    "                        \n",
    "            \n",
    "            repeat = \"yes\"\n",
    "            while repeat == \"yes\":\n",
    "                 choice = int(input(\"Enter your choice: \"))\n",
    "                 if choice == 1:\n",
    "                     quantity = int(input(\"No of buckets: \"))\n",
    "                     total = quantity*popcorn\n",
    "                 elif choice == 2:\n",
    "                     quantity = int(input(\"No of pizza : \"))\n",
    "                     total = quantity*pizza\n",
    "                 elif choice == 3:\n",
    "                     quantity = int(input(\"No of hot_dog : \"))\n",
    "                     total = quantity*hot_dog\n",
    "                 elif choice == 4:\n",
    "                     quantity = int(input(\"No of drinks : \"))\n",
    "                     total = quantity*drinks\n",
    "                 elif choice == 5:\n",
    "                     quantity = int(input(\"No of combo1 : \"))\n",
    "                     total = quantity*combo1\n",
    "                 elif choice == 6:\n",
    "                     quantity = int(input(\"No of combo2 : \"))\n",
    "                     total = quantity*combo2\n",
    "                 elif choice == 7:\n",
    "                     quantity = int(input(\"No of combo3 : \"))\n",
    "                     total = quantity*combo3\n",
    "                        \n",
    "                 else:\n",
    "                     print(\"Invalid input... Try again\")\n",
    "                 repeat = input(\"Do you want to repeat the order?(yes/no)\")\n",
    "                 price+=total\n",
    "                     \n",
    "        print()\n",
    "        print(\"=\"*50)\n",
    "        print(\"Customer name: \", name)\n",
    "        print(\"Movie name: \", \"Jawan\")\n",
    "        print(\"Ticket: \", amount)\n",
    "        print(\"Food: \", price)\n",
    "        print(\"Total Amount: \", amount+price)\n",
    "        print(\"Thank you so much for booking PVR Cinemas.\")\n",
    "        print(\"=\"*50)\n",
    "        print(\"Total Seats left : \", c_n + c_r + p_n + p_r)\n",
    "                \n",
    "        n_person = input(\"Next person?\")\n",
    "        if n_person == \"yes\":\n",
    "            price=0\n",
    "            \n",
    "             \n",
    "        elif n_person == \"no\":\n",
    "            break\n",
    "print()            \n",
    "print(\"Counter closed\")"
   ]
  },
  {
   "cell_type": "code",
   "execution_count": null,
   "id": "67af9502-789a-4a0e-a497-20e3a3debd03",
   "metadata": {},
   "outputs": [],
   "source": []
  }
 ],
 "metadata": {
  "kernelspec": {
   "display_name": "Python 3 (ipykernel)",
   "language": "python",
   "name": "python3"
  },
  "language_info": {
   "codemirror_mode": {
    "name": "ipython",
    "version": 3
   },
   "file_extension": ".py",
   "mimetype": "text/x-python",
   "name": "python",
   "nbconvert_exporter": "python",
   "pygments_lexer": "ipython3",
   "version": "3.11.5"
  }
 },
 "nbformat": 4,
 "nbformat_minor": 5
}
