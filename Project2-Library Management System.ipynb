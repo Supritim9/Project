{
 "cells": [
  {
   "cell_type": "code",
   "execution_count": 143,
   "id": "62c1a122-6015-4369-8dc1-0fd4711ae715",
   "metadata": {},
   "outputs": [
    {
     "name": "stdout",
     "output_type": "stream",
     "text": [
      "========================= Welcome to Central Library =========================\n"
     ]
    },
    {
     "name": "stdin",
     "output_type": "stream",
     "text": [
      "Please enter your username:  supriti\n",
      "Please enter your password:  password\n"
     ]
    },
    {
     "name": "stdout",
     "output_type": "stream",
     "text": [
      "Log in successfull\n"
     ]
    },
    {
     "name": "stdin",
     "output_type": "stream",
     "text": [
      "Enter your name:  supriti\n"
     ]
    },
    {
     "name": "stdout",
     "output_type": "stream",
     "text": [
      "\n",
      "Press 1 to see the books available in our library\n",
      "Press 2 to borrow books\n",
      "Press 3 for return books\n",
      "Press 4 to display the borrowed book\n",
      "\n"
     ]
    },
    {
     "name": "stdin",
     "output_type": "stream",
     "text": [
      "Please enter what do you want:  1\n"
     ]
    },
    {
     "name": "stdout",
     "output_type": "stream",
     "text": [
      "{'biology': 25, 'microbiology': 25, 'biochemistry': 25, 'math': 5}\n",
      "\n",
      "Press 1 to see the books available in our library\n",
      "Press 2 to borrow books\n",
      "Press 3 for return books\n",
      "Press 4 to display the borrowed book\n",
      "\n"
     ]
    },
    {
     "name": "stdin",
     "output_type": "stream",
     "text": [
      "Please enter what do you want:  2\n",
      "Enter book name: math\n"
     ]
    },
    {
     "name": "stdout",
     "output_type": "stream",
     "text": [
      "{'biology': 25, 'microbiology': 25, 'biochemistry': 25, 'math': 4}\n",
      "Book successfully added\n"
     ]
    },
    {
     "name": "stdin",
     "output_type": "stream",
     "text": [
      "Do you want to repeat the process? (yes/no) yes\n"
     ]
    },
    {
     "name": "stdout",
     "output_type": "stream",
     "text": [
      "\n",
      "Press 1 to see the books available in our library\n",
      "Press 2 to borrow books\n",
      "Press 3 for return books\n",
      "Press 4 to display the borrowed book\n",
      "\n"
     ]
    },
    {
     "name": "stdin",
     "output_type": "stream",
     "text": [
      "Please enter what do you want:  2\n",
      "Enter book name: biology\n"
     ]
    },
    {
     "name": "stdout",
     "output_type": "stream",
     "text": [
      "{'biology': 24, 'microbiology': 25, 'biochemistry': 25, 'math': 4}\n",
      "Book successfully added\n"
     ]
    },
    {
     "name": "stdin",
     "output_type": "stream",
     "text": [
      "Do you want to repeat the process? (yes/no) yes\n"
     ]
    },
    {
     "name": "stdout",
     "output_type": "stream",
     "text": [
      "\n",
      "Press 1 to see the books available in our library\n",
      "Press 2 to borrow books\n",
      "Press 3 for return books\n",
      "Press 4 to display the borrowed book\n",
      "\n"
     ]
    },
    {
     "name": "stdin",
     "output_type": "stream",
     "text": [
      "Please enter what do you want:  4\n"
     ]
    },
    {
     "name": "stdout",
     "output_type": "stream",
     "text": [
      "{'Supriti': ['math', 'biology']}\n",
      "Press 1 to see the books available in our library\n",
      "Press 2 to borrow books\n",
      "Press 3 for return books\n",
      "Press 4 to display the borrowed book\n",
      "\n"
     ]
    },
    {
     "name": "stdin",
     "output_type": "stream",
     "text": [
      "Please enter what do you want:  3\n",
      "enter book name you want to return: biology\n"
     ]
    },
    {
     "name": "stdout",
     "output_type": "stream",
     "text": [
      "{'biology': 25, 'microbiology': 25, 'biochemistry': 25, 'math': 4}\n"
     ]
    },
    {
     "name": "stdin",
     "output_type": "stream",
     "text": [
      "Do you want to repeat the process? (yes/no) no\n"
     ]
    },
    {
     "name": "stdout",
     "output_type": "stream",
     "text": [
      "\n",
      "--------------------------------------------------\n",
      "{'Supriti': ['math']}\n",
      "Thank you for visit our library. Please return the book within 7days\n"
     ]
    },
    {
     "name": "stdin",
     "output_type": "stream",
     "text": [
      "Next student? yes\n"
     ]
    },
    {
     "name": "stdout",
     "output_type": "stream",
     "text": [
      "{'biology': 25, 'microbiology': 25, 'biochemistry': 25, 'math': 4}\n",
      "========================= Welcome to Central Library =========================\n"
     ]
    },
    {
     "name": "stdin",
     "output_type": "stream",
     "text": [
      "Please enter your username:  supriti\n",
      "Please enter your password:  password\n"
     ]
    },
    {
     "name": "stdout",
     "output_type": "stream",
     "text": [
      "Log in successfull\n"
     ]
    },
    {
     "name": "stdin",
     "output_type": "stream",
     "text": [
      "Enter your name:  nilam\n"
     ]
    },
    {
     "name": "stdout",
     "output_type": "stream",
     "text": [
      "\n",
      "Press 1 to see the books available in our library\n",
      "Press 2 to borrow books\n",
      "Press 3 for return books\n",
      "Press 4 to display the borrowed book\n",
      "\n"
     ]
    },
    {
     "name": "stdin",
     "output_type": "stream",
     "text": [
      "Please enter what do you want:  3\n"
     ]
    },
    {
     "name": "stdout",
     "output_type": "stream",
     "text": [
      "You never borrowed book from our library\n",
      "Press 1 to see the books available in our library\n",
      "Press 2 to borrow books\n",
      "Press 3 for return books\n",
      "Press 4 to display the borrowed book\n",
      "\n"
     ]
    },
    {
     "name": "stdin",
     "output_type": "stream",
     "text": [
      "Please enter what do you want:  4\n"
     ]
    },
    {
     "name": "stdout",
     "output_type": "stream",
     "text": [
      "{'Supriti': ['math']}\n",
      "Press 1 to see the books available in our library\n",
      "Press 2 to borrow books\n",
      "Press 3 for return books\n",
      "Press 4 to display the borrowed book\n",
      "\n"
     ]
    },
    {
     "name": "stdin",
     "output_type": "stream",
     "text": [
      "Please enter what do you want:  2\n",
      "Enter book name: math\n"
     ]
    },
    {
     "name": "stdout",
     "output_type": "stream",
     "text": [
      "{'biology': 25, 'microbiology': 25, 'biochemistry': 25, 'math': 3}\n",
      "Book successfully added\n"
     ]
    },
    {
     "name": "stdin",
     "output_type": "stream",
     "text": [
      "Do you want to repeat the process? (yes/no) no\n"
     ]
    },
    {
     "name": "stdout",
     "output_type": "stream",
     "text": [
      "\n",
      "--------------------------------------------------\n",
      "{'Supriti': ['math'], 'Nilam': ['math']}\n",
      "Thank you for visit our library. Please return the book within 7days\n"
     ]
    },
    {
     "name": "stdin",
     "output_type": "stream",
     "text": [
      "Next student? yes\n"
     ]
    },
    {
     "name": "stdout",
     "output_type": "stream",
     "text": [
      "{'biology': 25, 'microbiology': 25, 'biochemistry': 25, 'math': 3}\n",
      "========================= Welcome to Central Library =========================\n"
     ]
    },
    {
     "name": "stdin",
     "output_type": "stream",
     "text": [
      "Please enter your username:  supriti\n",
      "Please enter your password:  password\n"
     ]
    },
    {
     "name": "stdout",
     "output_type": "stream",
     "text": [
      "Log in successfull\n"
     ]
    },
    {
     "name": "stdin",
     "output_type": "stream",
     "text": [
      "Enter your name:  raju\n"
     ]
    },
    {
     "name": "stdout",
     "output_type": "stream",
     "text": [
      "\n",
      "Press 1 to see the books available in our library\n",
      "Press 2 to borrow books\n",
      "Press 3 for return books\n",
      "Press 4 to display the borrowed book\n",
      "\n"
     ]
    },
    {
     "name": "stdin",
     "output_type": "stream",
     "text": [
      "Please enter what do you want:  2\n",
      "Enter book name: math\n"
     ]
    },
    {
     "name": "stdout",
     "output_type": "stream",
     "text": [
      "{'biology': 25, 'microbiology': 25, 'biochemistry': 25, 'math': 2}\n",
      "Book successfully added\n"
     ]
    },
    {
     "name": "stdin",
     "output_type": "stream",
     "text": [
      "Do you want to repeat the process? (yes/no) yes\n"
     ]
    },
    {
     "name": "stdout",
     "output_type": "stream",
     "text": [
      "\n",
      "Press 1 to see the books available in our library\n",
      "Press 2 to borrow books\n",
      "Press 3 for return books\n",
      "Press 4 to display the borrowed book\n",
      "\n"
     ]
    },
    {
     "name": "stdin",
     "output_type": "stream",
     "text": [
      "Please enter what do you want:  2\n",
      "Enter book name: biology\n"
     ]
    },
    {
     "name": "stdout",
     "output_type": "stream",
     "text": [
      "{'biology': 24, 'microbiology': 25, 'biochemistry': 25, 'math': 2}\n",
      "Book successfully added\n"
     ]
    },
    {
     "name": "stdin",
     "output_type": "stream",
     "text": [
      "Do you want to repeat the process? (yes/no) no\n"
     ]
    },
    {
     "name": "stdout",
     "output_type": "stream",
     "text": [
      "\n",
      "--------------------------------------------------\n",
      "{'Supriti': ['math'], 'Nilam': ['math'], 'Raju': ['math', 'biology']}\n",
      "Thank you for visit our library. Please return the book within 7days\n"
     ]
    },
    {
     "name": "stdin",
     "output_type": "stream",
     "text": [
      "Next student? no\n"
     ]
    },
    {
     "name": "stdout",
     "output_type": "stream",
     "text": [
      "Library Closed!\n"
     ]
    }
   ],
   "source": [
    "### Create a Library Management System\n",
    "# 1. Username Password\n",
    "# 2. total availables books (math - 0)\n",
    "# 3. borrow books\n",
    "# 4. return books\n",
    "# 5. display borrowed books details along with person's name. \n",
    "# increase and decrease the count of books accordingly.\n",
    "\n",
    "books = {\"biology\":25,\"microbiology\":25,\"biochemistry\":25,\"math\":5}\n",
    "un = \"supriti\"\n",
    "ps = \"password\"\n",
    "borrowed_books = {}\n",
    "\n",
    "\n",
    "while True:\n",
    "    print(\"=\"*25,\"Welcome to Central Library\",\"=\"*25)\n",
    "    username = input(\"Please enter your username: \").strip()\n",
    "    if un == username:\n",
    "        password = input(\"Please enter your password: \").strip()\n",
    "        if ps == password:\n",
    "            print(\"Log in successfull\")\n",
    "            m_books = []\n",
    "            name = input(\"Enter your name: \").capitalize()\n",
    "            print()\n",
    "            while True:\n",
    "                print(\"\"\"Press 1 to see the books available in our library\\nPress 2 to borrow books\\nPress 3 for return books\\nPress 4 to display the borrowed book\"\"\")\n",
    "                print()\n",
    "                choice = int(input(\"Please enter what do you want: \"))\n",
    "                if choice == 1:\n",
    "                    print(books)\n",
    "                    print()\n",
    "                    continue\n",
    "                elif choice == 2:\n",
    "                    n = input(\"Enter book name:\").lower()\n",
    "                    x = books.values()\n",
    "                    if books[n] < 0:\n",
    "                        print(\"Only this books\",books,\"available\")\n",
    "                    else:\n",
    "                        books[n]-=1\n",
    "                        m_books.append(n)\n",
    "                        print(books)\n",
    "                        print(\"Book successfully added\")\n",
    "                        borrowed_books[name] = m_books\n",
    "                        \n",
    "                   \n",
    "                elif choice == 3:\n",
    "                    if m_books == []:\n",
    "                        print(\"You never borrowed book from our library\")\n",
    "                        continue\n",
    "                        print()\n",
    "                    else:\n",
    "                        n = input(\"enter book name you want to return:\").lower()\n",
    "                        if n in m_books:\n",
    "                            books[n]+=1\n",
    "                            print(books)\n",
    "                            m_books.remove(n)   \n",
    "                        else:\n",
    "                            print(\"You never borrowed\",n,\"book from our library\")\n",
    "                elif choice == 4:\n",
    "                    print(borrowed_books)\n",
    "                    continue\n",
    "                else:\n",
    "                    print(\"Invalid Input...Try again!\")\n",
    "                    break\n",
    "\n",
    "                repeat = input(\"Do you want to repeat the process? (yes/no)\")\n",
    "               \n",
    "                if repeat == \"yes\":\n",
    "                    print()\n",
    "                else:\n",
    "                    print()\n",
    "                    print(\"-\"*50)\n",
    "                    print(borrowed_books)\n",
    "                    print(\"Thank you for visit our library. Please return the book within 7days\")\n",
    "                    break\n",
    "        else:\n",
    "            print(\"Incorrect password. Please try again.\")\n",
    "            continue\n",
    "    else:\n",
    "        print(\"Username not exist\")\n",
    "        break\n",
    "\n",
    "\n",
    "    n_student = input(\"Next student?\")\n",
    "    if n_student == \"yes\":\n",
    "        print(books) \n",
    "    elif n_student == \"no\":\n",
    "        print(\"Library Closed!\")\n",
    "        break\n"
   ]
  },
  {
   "cell_type": "code",
   "execution_count": null,
   "id": "09c5f791-34ce-453d-a8f7-c5bbad8f7d31",
   "metadata": {},
   "outputs": [],
   "source": [
    "#books ka list and usk andar books name hoga"
   ]
  },
  {
   "cell_type": "code",
   "execution_count": null,
   "id": "1771c3b3-c9fd-4c18-afee-4c879188da1a",
   "metadata": {},
   "outputs": [],
   "source": []
  },
  {
   "cell_type": "code",
   "execution_count": null,
   "id": "b0e29c8e-1b94-4a44-8a5f-1bf07f09891b",
   "metadata": {},
   "outputs": [],
   "source": []
  }
 ],
 "metadata": {
  "kernelspec": {
   "display_name": "Python 3 (ipykernel)",
   "language": "python",
   "name": "python3"
  },
  "language_info": {
   "codemirror_mode": {
    "name": "ipython",
    "version": 3
   },
   "file_extension": ".py",
   "mimetype": "text/x-python",
   "name": "python",
   "nbconvert_exporter": "python",
   "pygments_lexer": "ipython3",
   "version": "3.11.5"
  }
 },
 "nbformat": 4,
 "nbformat_minor": 5
}
