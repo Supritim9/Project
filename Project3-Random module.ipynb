{
 "cells": [
  {
   "cell_type": "code",
   "execution_count": 14,
   "id": "507481a6-cbec-4e89-96c9-e84e5d76cced",
   "metadata": {},
   "outputs": [
    {
     "name": "stdin",
     "output_type": "stream",
     "text": [
      "Enter your name:  sira\n"
     ]
    },
    {
     "name": "stdout",
     "output_type": "stream",
     "text": [
      "Good Luck sira\n"
     ]
    },
    {
     "name": "stdin",
     "output_type": "stream",
     "text": [
      "guess a letter:  l\n"
     ]
    },
    {
     "name": "stdout",
     "output_type": "stream",
     "text": [
      "_\n",
      "_\n",
      "_\n",
      "_\n",
      "_\n",
      "Wrong guess\n",
      "you have 9 chances only\n"
     ]
    },
    {
     "name": "stdin",
     "output_type": "stream",
     "text": [
      "guess a letter:  k\n"
     ]
    },
    {
     "name": "stdout",
     "output_type": "stream",
     "text": [
      "_\n",
      "_\n",
      "_\n",
      "_\n",
      "_\n",
      "Wrong guess\n",
      "you have 8 chances only\n"
     ]
    },
    {
     "name": "stdin",
     "output_type": "stream",
     "text": [
      "guess a letter:  o\n"
     ]
    },
    {
     "name": "stdout",
     "output_type": "stream",
     "text": [
      "_\n",
      "o\n",
      "_\n",
      "_\n",
      "_\n"
     ]
    },
    {
     "name": "stdin",
     "output_type": "stream",
     "text": [
      "guess a letter:  t\n"
     ]
    },
    {
     "name": "stdout",
     "output_type": "stream",
     "text": [
      "_\n",
      "o\n",
      "_\n",
      "_\n",
      "_\n",
      "Wrong guess\n",
      "you have 7 chances only\n"
     ]
    },
    {
     "name": "stdin",
     "output_type": "stream",
     "text": [
      "guess a letter:  e\n"
     ]
    },
    {
     "name": "stdout",
     "output_type": "stream",
     "text": [
      "_\n",
      "o\n",
      "_\n",
      "_\n",
      "e\n"
     ]
    },
    {
     "name": "stdin",
     "output_type": "stream",
     "text": [
      "guess a letter:  b\n"
     ]
    },
    {
     "name": "stdout",
     "output_type": "stream",
     "text": [
      "_\n",
      "o\n",
      "_\n",
      "_\n",
      "e\n",
      "Wrong guess\n",
      "you have 6 chances only\n"
     ]
    },
    {
     "name": "stdin",
     "output_type": "stream",
     "text": [
      "guess a letter:  m\n"
     ]
    },
    {
     "name": "stdout",
     "output_type": "stream",
     "text": [
      "m\n",
      "o\n",
      "_\n",
      "_\n",
      "e\n"
     ]
    },
    {
     "name": "stdin",
     "output_type": "stream",
     "text": [
      "guess a letter:  i\n"
     ]
    },
    {
     "name": "stdout",
     "output_type": "stream",
     "text": [
      "m\n",
      "o\n",
      "_\n",
      "_\n",
      "e\n",
      "Wrong guess\n",
      "you have 5 chances only\n"
     ]
    },
    {
     "name": "stdin",
     "output_type": "stream",
     "text": [
      "guess a letter:  b\n"
     ]
    },
    {
     "name": "stdout",
     "output_type": "stream",
     "text": [
      "m\n",
      "o\n",
      "_\n",
      "_\n",
      "e\n",
      "Wrong guess\n",
      "you have 4 chances only\n"
     ]
    },
    {
     "name": "stdin",
     "output_type": "stream",
     "text": [
      "guess a letter:  u\n"
     ]
    },
    {
     "name": "stdout",
     "output_type": "stream",
     "text": [
      "m\n",
      "o\n",
      "u\n",
      "_\n",
      "e\n"
     ]
    },
    {
     "name": "stdin",
     "output_type": "stream",
     "text": [
      "guess a letter:  s\n"
     ]
    },
    {
     "name": "stdout",
     "output_type": "stream",
     "text": [
      "m\n",
      "o\n",
      "u\n",
      "s\n",
      "e\n",
      "You won\n",
      "The correct word is:  mouse\n"
     ]
    }
   ],
   "source": [
    "# Use Random module to create any game in Python\n",
    "\n",
    "import random\n",
    "word = [\"apple\", \"world\", \"book\", \"water\", \"mouse\", \"science\", \"python\", \"school\", \"computer\", \"history\", \"bottle\", \"mobile\"]\n",
    "\n",
    "name = input(\"Enter your name: \")\n",
    "print(\"Good Luck\", name)\n",
    "c_word = random.choice(word)\n",
    "chances = 10\n",
    "guess = \"\"\n",
    "\n",
    "while chances >0:\n",
    "    wrong_g = 0\n",
    "    g = input(\"guess a letter: \") \n",
    "    guess+=g\n",
    "    for let in c_word:\n",
    "        if let in guess:\n",
    "            print(let)\n",
    "        else:\n",
    "            print(\"_\")\n",
    "            wrong_g+=1\n",
    "    if wrong_g == 0:\n",
    "        print('You won')\n",
    "        print(\"The correct word is: \", c_word)  \n",
    "        break \n",
    "    if g not in c_word:\n",
    "        chances-=1\n",
    "        print(\"Wrong guess\")\n",
    "        print(\"you have\",chances,\"chances only\")\n",
    "\n",
    "    if chances == 0:\n",
    "        print(\"you loose\")\n",
    "        print(\"correct word is\", c_word)\n",
    "\n",
    "      \n",
    "\n",
    "    \n"
   ]
  },
  {
   "cell_type": "code",
   "execution_count": null,
   "id": "e4606204-2632-4919-81e3-0bbe6aed4229",
   "metadata": {},
   "outputs": [],
   "source": []
  },
  {
   "cell_type": "code",
   "execution_count": null,
   "id": "727a6d9d-34cc-499c-aeb5-528de413991e",
   "metadata": {},
   "outputs": [],
   "source": []
  }
 ],
 "metadata": {
  "kernelspec": {
   "display_name": "Python 3 (ipykernel)",
   "language": "python",
   "name": "python3"
  },
  "language_info": {
   "codemirror_mode": {
    "name": "ipython",
    "version": 3
   },
   "file_extension": ".py",
   "mimetype": "text/x-python",
   "name": "python",
   "nbconvert_exporter": "python",
   "pygments_lexer": "ipython3",
   "version": "3.11.5"
  }
 },
 "nbformat": 4,
 "nbformat_minor": 5
}
